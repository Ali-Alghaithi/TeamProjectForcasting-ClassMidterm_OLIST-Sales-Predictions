{
 "cells": [
  {
   "cell_type": "code",
   "execution_count": 13,
   "metadata": {
    "state": "normal"
   },
   "outputs": [],
   "source": [
    "# GOAL 2 PANEL MODEL CODE\n",
    "\n",
    "import pandas as pd\n",
    "import numpy as np\n",
    "import statsmodels.api as sm\n",
    "import patsy as pt\n",
    "import datetime\n",
    "\n",
    "\n",
    "# Training Data\n",
    "## IMPORTANT CODE NOTE: uncomment the data to run it & comment the other datas not in use\n",
    "\n",
    "data = pd.read_csv('bed_bath_table_data.csv').drop(['product_category_name_english','revenue'],1)\n",
    "#data = pd.read_csv('furniture_decor.csv').drop(['product_category_name_english','revenue'],1)\n",
    "#data = pd.read_csv('health_beauty.csv').drop(['product_category_name_english','revenue'],1)\n",
    "#data = pd.read_csv('construction_tools_lights_data.csv').drop(['product_category_name_english','revenue'],1)\n",
    "    # reminder: take out C(month) here\n",
    "\n",
    "# order_purchase_timestamp as date\n",
    "format = '%Y-%m-%d'\n",
    "data['order_purchase_timestamp'] = pd.to_datetime(data['order_purchase_timestamp'], format=format)\n",
    "\n",
    "# bread up `order_purchase_timestamp` into additional variables\n",
    "data['year'] = data['order_purchase_timestamp'].dt.year\n",
    "data['month'] = data['order_purchase_timestamp'].dt.month\n",
    "data['weekday'] = data['order_purchase_timestamp'].dt.weekday\n",
    "# 0 = Monday, 6 = Sunday\n",
    "data['isBlackFriday'] = np.where((data['order_purchase_timestamp']=='2017-11-24') | (data['order_purchase_timestamp'] == '2018-11-27'), 1, 0)\n",
    "data['isWeekend'] = np.where((data['weekday']== 5) | (data['weekday'] == 6), 1, 0)\n",
    "\n",
    "\n",
    "# TEST SET\n",
    "# Predict from 2018-08-01 to 2018-10-31\n",
    "## make dataframe with this date range as column\n",
    "test = pd.DataFrame(columns=['order_purchase_timestamp', 'sales_volume', 'year', 'month', 'weekday', 'isBlackFriday', 'isWeekend'])\n",
    "test['order_purchase_timestamp'] = pd.date_range(start=\"2018-08-01\",end=\"2018-10-31\")\n",
    "test['year'] = test['order_purchase_timestamp'].dt.year\n",
    "test['month'] = test['order_purchase_timestamp'].dt.month\n",
    "test['weekday'] = test['order_purchase_timestamp'].dt.weekday\n",
    "# set to 0 to fill column\n",
    "test['sales_volume'] = 0\n",
    "# 0 = Monday, 6 = Sunday\n",
    "test['isBlackFriday'] = np.where((test['order_purchase_timestamp']=='2017-11-24') | (test['order_purchase_timestamp'] == '2018-11-27'), 1, 0)\n",
    "test['isWeekend'] = np.where((test['weekday']== 5) | (test['weekday'] == 6), 1, 0)\n",
    "\n",
    "\n",
    "# concatonate data2 and test\n",
    "dat = pd.concat([data, test])\n"
   ]
  },
  {
   "cell_type": "code",
   "execution_count": 14,
   "metadata": {
    "state": "normal"
   },
   "outputs": [
    {
     "data": {
      "text/html": [
       "<div>\n",
       "<style scoped>\n",
       "    .dataframe tbody tr th:only-of-type {\n",
       "        vertical-align: middle;\n",
       "    }\n",
       "\n",
       "    .dataframe tbody tr th {\n",
       "        vertical-align: top;\n",
       "    }\n",
       "\n",
       "    .dataframe thead th {\n",
       "        text-align: right;\n",
       "    }\n",
       "</style>\n",
       "<table border=\"1\" class=\"dataframe\">\n",
       "  <thead>\n",
       "    <tr style=\"text-align: right;\">\n",
       "      <th></th>\n",
       "      <th>order_purchase_timestamp</th>\n",
       "      <th>sales_volume</th>\n",
       "      <th>year</th>\n",
       "      <th>month</th>\n",
       "      <th>weekday</th>\n",
       "      <th>isBlackFriday</th>\n",
       "      <th>isWeekend</th>\n",
       "    </tr>\n",
       "  </thead>\n",
       "  <tbody>\n",
       "    <tr>\n",
       "      <th>0</th>\n",
       "      <td>2017-01-08</td>\n",
       "      <td>1</td>\n",
       "      <td>2017</td>\n",
       "      <td>1</td>\n",
       "      <td>6</td>\n",
       "      <td>0</td>\n",
       "      <td>1</td>\n",
       "    </tr>\n",
       "    <tr>\n",
       "      <th>1</th>\n",
       "      <td>2017-01-10</td>\n",
       "      <td>2</td>\n",
       "      <td>2017</td>\n",
       "      <td>1</td>\n",
       "      <td>1</td>\n",
       "      <td>0</td>\n",
       "      <td>0</td>\n",
       "    </tr>\n",
       "    <tr>\n",
       "      <th>2</th>\n",
       "      <td>2017-01-13</td>\n",
       "      <td>1</td>\n",
       "      <td>2017</td>\n",
       "      <td>1</td>\n",
       "      <td>4</td>\n",
       "      <td>0</td>\n",
       "      <td>0</td>\n",
       "    </tr>\n",
       "    <tr>\n",
       "      <th>3</th>\n",
       "      <td>2017-01-14</td>\n",
       "      <td>1</td>\n",
       "      <td>2017</td>\n",
       "      <td>1</td>\n",
       "      <td>5</td>\n",
       "      <td>0</td>\n",
       "      <td>1</td>\n",
       "    </tr>\n",
       "    <tr>\n",
       "      <th>4</th>\n",
       "      <td>2017-01-15</td>\n",
       "      <td>1</td>\n",
       "      <td>2017</td>\n",
       "      <td>1</td>\n",
       "      <td>6</td>\n",
       "      <td>0</td>\n",
       "      <td>1</td>\n",
       "    </tr>\n",
       "    <tr>\n",
       "      <th>...</th>\n",
       "      <td>...</td>\n",
       "      <td>...</td>\n",
       "      <td>...</td>\n",
       "      <td>...</td>\n",
       "      <td>...</td>\n",
       "      <td>...</td>\n",
       "      <td>...</td>\n",
       "    </tr>\n",
       "    <tr>\n",
       "      <th>87</th>\n",
       "      <td>2018-10-27</td>\n",
       "      <td>0</td>\n",
       "      <td>2018</td>\n",
       "      <td>10</td>\n",
       "      <td>5</td>\n",
       "      <td>0</td>\n",
       "      <td>1</td>\n",
       "    </tr>\n",
       "    <tr>\n",
       "      <th>88</th>\n",
       "      <td>2018-10-28</td>\n",
       "      <td>0</td>\n",
       "      <td>2018</td>\n",
       "      <td>10</td>\n",
       "      <td>6</td>\n",
       "      <td>0</td>\n",
       "      <td>1</td>\n",
       "    </tr>\n",
       "    <tr>\n",
       "      <th>89</th>\n",
       "      <td>2018-10-29</td>\n",
       "      <td>0</td>\n",
       "      <td>2018</td>\n",
       "      <td>10</td>\n",
       "      <td>0</td>\n",
       "      <td>0</td>\n",
       "      <td>0</td>\n",
       "    </tr>\n",
       "    <tr>\n",
       "      <th>90</th>\n",
       "      <td>2018-10-30</td>\n",
       "      <td>0</td>\n",
       "      <td>2018</td>\n",
       "      <td>10</td>\n",
       "      <td>1</td>\n",
       "      <td>0</td>\n",
       "      <td>0</td>\n",
       "    </tr>\n",
       "    <tr>\n",
       "      <th>91</th>\n",
       "      <td>2018-10-31</td>\n",
       "      <td>0</td>\n",
       "      <td>2018</td>\n",
       "      <td>10</td>\n",
       "      <td>2</td>\n",
       "      <td>0</td>\n",
       "      <td>0</td>\n",
       "    </tr>\n",
       "  </tbody>\n",
       "</table>\n",
       "<p>658 rows × 7 columns</p>\n",
       "</div>"
      ],
      "text/plain": [
       "   order_purchase_timestamp  sales_volume  year  month  weekday  \\\n",
       "0                2017-01-08             1  2017      1        6   \n",
       "1                2017-01-10             2  2017      1        1   \n",
       "2                2017-01-13             1  2017      1        4   \n",
       "3                2017-01-14             1  2017      1        5   \n",
       "4                2017-01-15             1  2017      1        6   \n",
       "..                      ...           ...   ...    ...      ...   \n",
       "87               2018-10-27             0  2018     10        5   \n",
       "88               2018-10-28             0  2018     10        6   \n",
       "89               2018-10-29             0  2018     10        0   \n",
       "90               2018-10-30             0  2018     10        1   \n",
       "91               2018-10-31             0  2018     10        2   \n",
       "\n",
       "    isBlackFriday  isWeekend  \n",
       "0               0          1  \n",
       "1               0          0  \n",
       "2               0          0  \n",
       "3               0          1  \n",
       "4               0          1  \n",
       "..            ...        ...  \n",
       "87              0          1  \n",
       "88              0          1  \n",
       "89              0          0  \n",
       "90              0          0  \n",
       "91              0          0  \n",
       "\n",
       "[658 rows x 7 columns]"
      ]
     },
     "execution_count": 14,
     "metadata": {},
     "output_type": "execute_result"
    }
   ],
   "source": [
    "dat"
   ]
  },
  {
   "cell_type": "code",
   "execution_count": 15,
   "metadata": {
    "state": "normal"
   },
   "outputs": [],
   "source": [
    "# model matrices\n",
    "# the data is the training data used for validation\n",
    "\n",
    "\n",
    "## for bed_bath_table, change data to dat.iloc[:474]\n",
    "## for furniture_decor, change data to dat.iloc[:479]\n",
    "## for health_beauty, change data to dat.iloc[:473]\n",
    "\n",
    "## for construction_tools_lights, remove C(month) from the equation & change data to dat.iloc[:55]\n",
    "\n",
    "\n",
    "y, x = pt.dmatrices(\"sales_volume ~ C(year) + C(month) + C(weekday) + isBlackFriday + isWeekend\", data = dat.iloc[:474], return_type='dataframe')\n"
   ]
  },
  {
   "cell_type": "code",
   "execution_count": 16,
   "metadata": {
    "state": "normal"
   },
   "outputs": [
    {
     "name": "stdout",
     "output_type": "stream",
     "text": [
      "                            OLS Regression Results                            \n",
      "==============================================================================\n",
      "Dep. Variable:           sales_volume   R-squared:                       0.616\n",
      "Model:                            OLS   Adj. R-squared:                  0.600\n",
      "Method:                 Least Squares   F-statistic:                 2.401e+04\n",
      "Date:                Fri, 16 Oct 2020   Prob (F-statistic):               0.00\n",
      "Time:                        15:35:36   Log-Likelihood:                -1811.6\n",
      "No. Observations:                 474   AIC:                             3663.\n",
      "Df Residuals:                     454   BIC:                             3746.\n",
      "Df Model:                          19                                         \n",
      "Covariance Type:              cluster                                         \n",
      "===================================================================================\n",
      "                      coef    std err          t      P>|t|      [0.025      0.975]\n",
      "-----------------------------------------------------------------------------------\n",
      "Intercept          10.7495      2.156      4.986      0.000       6.513      14.986\n",
      "C(year)[T.2018]    23.7830      1.255     18.950      0.000      21.317      26.249\n",
      "C(month)[T.2]      -1.9473      2.318     -0.840      0.401      -6.502       2.607\n",
      "C(month)[T.3]       1.6551      2.325      0.712      0.477      -2.914       6.224\n",
      "C(month)[T.4]       1.5707      2.351      0.668      0.504      -3.050       6.191\n",
      "C(month)[T.5]       5.1789      2.104      2.461      0.014       1.044       9.314\n",
      "C(month)[T.6]       6.9358      2.538      2.733      0.007       1.950      11.922\n",
      "C(month)[T.7]      13.8647      2.095      6.618      0.000       9.748      17.981\n",
      "C(month)[T.8]      11.2910      2.360      4.784      0.000       6.653      15.929\n",
      "C(month)[T.9]      13.4326      2.633      5.103      0.000       8.260      18.605\n",
      "C(month)[T.10]     16.2556      3.334      4.876      0.000       9.704      22.807\n",
      "C(month)[T.11]     25.0125      4.862      5.144      0.000      15.459      34.567\n",
      "C(month)[T.12]     13.1763      2.442      5.396      0.000       8.378      17.974\n",
      "C(weekday)[T.1]     0.5026      2.358      0.213      0.831      -4.131       5.136\n",
      "C(weekday)[T.2]    -1.8580      1.796     -1.035      0.301      -5.386       1.670\n",
      "C(weekday)[T.3]    -2.4761      1.633     -1.516      0.130      -5.685       0.733\n",
      "C(weekday)[T.4]    -4.6595      1.695     -2.749      0.006      -7.991      -1.329\n",
      "C(weekday)[T.5]    -1.8409      1.321     -1.394      0.164      -4.437       0.755\n",
      "C(weekday)[T.6]    -1.6976      1.071     -1.585      0.114      -3.802       0.407\n",
      "isBlackFriday     213.8975      4.483     47.716      0.000     205.089     222.706\n",
      "isWeekend          -3.5385      1.152     -3.072      0.002      -5.802      -1.275\n",
      "==============================================================================\n",
      "Omnibus:                      371.809   Durbin-Watson:                   1.550\n",
      "Prob(Omnibus):                  0.000   Jarque-Bera (JB):             9370.517\n",
      "Skew:                           3.154   Prob(JB):                         0.00\n",
      "Kurtosis:                      23.849   Cond. No.                     4.54e+15\n",
      "==============================================================================\n",
      "\n",
      "Warnings:\n",
      "[1] Standard Errors are robust to cluster correlation (cluster)\n",
      "[2] The smallest eigenvalue is 3.18e-29. This might indicate that there are\n",
      "strong multicollinearity problems or that the design matrix is singular.\n"
     ]
    },
    {
     "name": "stderr",
     "output_type": "stream",
     "text": [
      "/opt/conda/lib/python3.7/site-packages/statsmodels/base/model.py:1752: ValueWarning: covariance of constraints does not have full rank. The number of constraints is 20, but rank is 19\n",
      "  'rank is %d' % (J, J_), ValueWarning)\n"
     ]
    }
   ],
   "source": [
    "# Specify regression\n",
    "reg = sm.OLS(endog=y, exog=x) \n",
    "\n",
    "# Fit regression with robust standard errors\n",
    "# cluster based on 'order_purchase_timestamp'\n",
    "# the data is the training data used for validation\n",
    "\n",
    "## for bed_bath_table, change data to dat.iloc[:474]\n",
    "## for furniture_decor, change data to dat.iloc[:479]\n",
    "## for health_beauty, change data to dat.iloc[:473]\n",
    "\n",
    "## for construction_tools_lights, remove C(month) from the equation & change data to dat.iloc[:55]\n",
    "\n",
    "fit = reg.fit().get_robustcov_results(cov_type='cluster', groups=dat.iloc[:474, dat.columns.get_loc('order_purchase_timestamp')])\n",
    "\n",
    "# Print results\n",
    "print(fit.summary())"
   ]
  },
  {
   "cell_type": "code",
   "execution_count": 18,
   "metadata": {
    "state": "normal"
   },
   "outputs": [
    {
     "name": "stdout",
     "output_type": "stream",
     "text": [
      "Mean Squared Error: 319.8653529585417\n",
      "Mean Absolute Error: 14.90901324009316\n",
      "Mean Absolute Percentage Error: 83.74465336927645\n"
     ]
    }
   ],
   "source": [
    "# VALIDATE\n",
    "\n",
    "# Store predictions and truth\n",
    "# the validation set is [473:565] (the last three months of data for which 'sales_volume' is known)\n",
    "\n",
    "\n",
    "# here the data is the validation data\n",
    "\n",
    "## for bed_bath_table, change data to dat.iloc[474:566]\n",
    "## for furniture_decor, change data to dat.iloc[479:571]\n",
    "## for health_beauty, change data to dat.iloc[473:565]\n",
    "\n",
    "## for construction_tools_lights, change data to dat.iloc[55:115]\n",
    "\n",
    "xPred = pt.build_design_matrices([x.design_info], dat.iloc[474:566])\n",
    "\n",
    "# fit prediction to validation set\n",
    "pred = fit.predict(xPred).squeeze()\n",
    "truth = dat.iloc[474:566, 1]\n",
    "\n",
    "\n",
    "# sales errors\n",
    "errors = pred - truth\n",
    "\n",
    "\n",
    "# Calculate Absolute Percentage Error\n",
    "pce = np.abs(errors/truth)*100\n",
    "\n",
    "\n",
    "# Print MSE, Mean Absolute Error, \n",
    "#   and Mean Abs Percentage Error\n",
    "print(\"Mean Squared Error: %s\" % \n",
    "\tstr(np.mean(errors**2)))\n",
    "print(\"Mean Absolute Error: %s\" % \n",
    "\tstr(np.mean(np.abs(errors))))\n",
    "print(\"Mean Absolute Percentage Error: %s\" \n",
    "\t% str(np.mean(pce)))\n",
    "## by what percentage of the actual value were we incorrect (56.% is pretty bad)\n",
    "## may be because of variables included or omitted, or just difficult to predict"
   ]
  },
  {
   "cell_type": "code",
   "execution_count": 19,
   "metadata": {
    "state": "normal"
   },
   "outputs": [
    {
     "name": "stderr",
     "output_type": "stream",
     "text": [
      "/opt/conda/lib/python3.7/site-packages/ipykernel_launcher.py:3: SettingWithCopyWarning: \n",
      "A value is trying to be set on a copy of a slice from a DataFrame.\n",
      "Try using .loc[row_indexer,col_indexer] = value instead\n",
      "\n",
      "See the caveats in the documentation: https://pandas.pydata.org/pandas-docs/stable/user_guide/indexing.html#returning-a-view-versus-a-copy\n",
      "  This is separate from the ipykernel package so we can avoid doing imports until\n"
     ]
    },
    {
     "data": {
      "text/plain": [
       "<matplotlib.axes._subplots.AxesSubplot at 0x7fe347428860>"
      ]
     },
     "execution_count": 19,
     "metadata": {},
     "output_type": "execute_result"
    },
    {
     "data": {
      "image/png": "[encoded data removed]",
      "text/plain": [
       "<Figure size 720x360 with 1 Axes>"
      ]
     },
     "metadata": {
      "needs_background": "light"
     },
     "output_type": "display_data"
    }
   ],
   "source": [
    "# PLOT VALIDATION SET OF PREDICTIONS VERSUS TRUTH\n",
    "valid = dat.iloc[474:566]\n",
    "valid['pred'] = pred\n",
    "\n",
    "import plotly.express as px\n",
    "\n",
    "valid.plot(x='order_purchase_timestamp', y=['sales_volume', 'pred'], figsize=(10,5), grid=True)\n"
   ]
  },
  {
   "cell_type": "code",
   "execution_count": 20,
   "metadata": {
    "state": "normal"
   },
   "outputs": [
    {
     "name": "stdout",
     "output_type": "stream",
     "text": [
      "                            OLS Regression Results                            \n",
      "==============================================================================\n",
      "Dep. Variable:           sales_volume   R-squared:                       0.553\n",
      "Model:                            OLS   Adj. R-squared:                  0.538\n",
      "Method:                 Least Squares   F-statistic:                 2.018e+04\n",
      "Date:                Fri, 16 Oct 2020   Prob (F-statistic):               0.00\n",
      "Time:                        15:39:01   Log-Likelihood:                -2191.8\n",
      "No. Observations:                 566   AIC:                             4424.\n",
      "Df Residuals:                     546   BIC:                             4510.\n",
      "Df Model:                          19                                         \n",
      "Covariance Type:              cluster                                         \n",
      "===================================================================================\n",
      "                      coef    std err          t      P>|t|      [0.025      0.975]\n",
      "-----------------------------------------------------------------------------------\n",
      "Intercept          14.1501      2.407      5.878      0.000       9.422      18.879\n",
      "C(year)[T.2018]    18.6714      1.022     18.268      0.000      16.664      20.679\n",
      "C(month)[T.2]      -2.4621      2.462     -1.000      0.318      -7.298       2.374\n",
      "C(month)[T.3]       1.1793      2.458      0.480      0.632      -3.649       6.008\n",
      "C(month)[T.4]       1.0519      2.482      0.424      0.672      -3.823       5.927\n",
      "C(month)[T.5]       1.4175      2.576      0.550      0.582      -3.642       6.476\n",
      "C(month)[T.6]       2.9400      2.561      1.148      0.252      -2.091       7.971\n",
      "C(month)[T.7]       3.0369      2.770      1.096      0.273      -2.404       8.478\n",
      "C(month)[T.8]       8.1886      2.599      3.151      0.002       3.084      13.294\n",
      "C(month)[T.9]      10.4161      2.839      3.669      0.000       4.841      15.992\n",
      "C(month)[T.10]     13.1425      3.466      3.792      0.000       6.335      19.950\n",
      "C(month)[T.11]     21.8998      4.972      4.404      0.000      12.133      31.666\n",
      "C(month)[T.12]     10.1482      2.687      3.777      0.000       4.870      15.426\n",
      "C(weekday)[T.1]     0.8559      2.231      0.384      0.701      -3.526       5.238\n",
      "C(weekday)[T.2]    -1.6968      1.829     -0.928      0.354      -5.290       1.896\n",
      "C(weekday)[T.3]    -2.9931      1.671     -1.792      0.074      -6.275       0.288\n",
      "C(weekday)[T.4]    -5.9068      1.753     -3.369      0.001      -9.351      -2.463\n",
      "C(weekday)[T.5]    -2.5226      1.197     -2.107      0.036      -4.874      -0.171\n",
      "C(weekday)[T.6]    -1.3693      1.024     -1.337      0.182      -3.381       0.642\n",
      "isBlackFriday     214.8569      4.500     47.745      0.000     206.018     223.696\n",
      "isWeekend          -3.8918      1.124     -3.462      0.001      -6.100      -1.684\n",
      "==============================================================================\n",
      "Omnibus:                      346.632   Durbin-Watson:                   1.434\n",
      "Prob(Omnibus):                  0.000   Jarque-Bera (JB):             5575.650\n",
      "Skew:                           2.385   Prob(JB):                         0.00\n",
      "Kurtosis:                      17.617   Cond. No.                     6.60e+15\n",
      "==============================================================================\n",
      "\n",
      "Warnings:\n",
      "[1] Standard Errors are robust to cluster correlation (cluster)\n",
      "[2] The smallest eigenvalue is 1.92e-29. This might indicate that there are\n",
      "strong multicollinearity problems or that the design matrix is singular.\n"
     ]
    },
    {
     "name": "stderr",
     "output_type": "stream",
     "text": [
      "/opt/conda/lib/python3.7/site-packages/statsmodels/base/model.py:1752: ValueWarning: covariance of constraints does not have full rank. The number of constraints is 20, but rank is 19\n",
      "  'rank is %d' % (J, J_), ValueWarning)\n"
     ]
    }
   ],
   "source": [
    "# PREDICT NEXT 3 MONTHS (Aug-Oct 2018) using whole training data\n",
    "\n",
    "# predicting sales (total_price)\n",
    "## same formula as from validation model\n",
    "\n",
    "# here the data is the entire dataset up through July 2018\n",
    "\n",
    "## for bed_bath_table, change data to dat.iloc[:566]\n",
    "## for furniture_decor, change data to dat.iloc[:571]\n",
    "## for health_beauty, change data to dat.iloc[:565]\n",
    "\n",
    "## for construction_tools_lights, remove C(month) from the equation & change data to dat.iloc[:115]\n",
    "\n",
    "y, x = pt.dmatrices(\"sales_volume ~ C(year) + C(month) + C(weekday) + isBlackFriday + isWeekend\", data = dat.iloc[:566], return_type='dataframe')\n",
    "\n",
    "\n",
    "# Specify regression\n",
    "reg = sm.OLS(endog=y, exog=x) \n",
    "\n",
    "## panel model distinguished by using fixed effects on 'firm'\n",
    "## --> breaking 'firm' into dummy variables; one obs per firm per year\n",
    "##### (For Assignment 2) --> one obs per team per week; C(team)\n",
    "##### (For Midterm) --> one obs per day; C(order_purchase_timestamp)\n",
    "\n",
    "\n",
    "\n",
    "# Fit regression with robust standard errors\n",
    "fit = reg.fit().get_robustcov_results(cov_type='cluster', groups=dat.iloc[:566, dat.columns.get_loc('order_purchase_timestamp')])\n",
    "## cluster groups based on 'firm' so pass in corresponding column\n",
    "## adjusts for cluster robust SE; SE changes without this\n",
    "## higher SE = more honest about confidence in data set = less confident in results = more honest in ability to predict\n",
    "\n",
    "\n",
    "# Print results\n",
    "print(fit.summary())\n",
    "\n",
    "\n",
    "# predict for last 22 rows of dat\n",
    "xPred = pt.build_design_matrices([x.design_info], dat.iloc[566:])\n",
    "\n",
    "prediction = fit.predict(xPred).squeeze()\n",
    "\n",
    "# Compile prediction dataframe\n",
    "test['sales_volume'] = prediction\n",
    "pred = test[['order_purchase_timestamp','sales_volume']]"
   ]
  },
  {
   "cell_type": "code",
   "execution_count": 92,
   "metadata": {
    "state": "normal"
   },
   "outputs": [
    {
     "data": {
      "text/html": [
       "<div>\n",
       "<style scoped>\n",
       "    .dataframe tbody tr th:only-of-type {\n",
       "        vertical-align: middle;\n",
       "    }\n",
       "\n",
       "    .dataframe tbody tr th {\n",
       "        vertical-align: top;\n",
       "    }\n",
       "\n",
       "    .dataframe thead th {\n",
       "        text-align: right;\n",
       "    }\n",
       "</style>\n",
       "<table border=\"1\" class=\"dataframe\">\n",
       "  <thead>\n",
       "    <tr style=\"text-align: right;\">\n",
       "      <th></th>\n",
       "      <th>order_purchase_timestamp</th>\n",
       "      <th>sales_volume</th>\n",
       "    </tr>\n",
       "  </thead>\n",
       "  <tbody>\n",
       "    <tr>\n",
       "      <th>0</th>\n",
       "      <td>2018-08-01</td>\n",
       "      <td>32.675281</td>\n",
       "    </tr>\n",
       "    <tr>\n",
       "      <th>1</th>\n",
       "      <td>2018-08-02</td>\n",
       "      <td>31.692351</td>\n",
       "    </tr>\n",
       "    <tr>\n",
       "      <th>2</th>\n",
       "      <td>2018-08-03</td>\n",
       "      <td>28.430882</td>\n",
       "    </tr>\n",
       "    <tr>\n",
       "      <th>3</th>\n",
       "      <td>2018-08-04</td>\n",
       "      <td>25.418194</td>\n",
       "    </tr>\n",
       "    <tr>\n",
       "      <th>4</th>\n",
       "      <td>2018-08-05</td>\n",
       "      <td>29.871244</td>\n",
       "    </tr>\n",
       "    <tr>\n",
       "      <th>...</th>\n",
       "      <td>...</td>\n",
       "      <td>...</td>\n",
       "    </tr>\n",
       "    <tr>\n",
       "      <th>87</th>\n",
       "      <td>2018-10-27</td>\n",
       "      <td>26.398398</td>\n",
       "    </tr>\n",
       "    <tr>\n",
       "      <th>88</th>\n",
       "      <td>2018-10-28</td>\n",
       "      <td>30.851448</td>\n",
       "    </tr>\n",
       "    <tr>\n",
       "      <th>89</th>\n",
       "      <td>2018-10-29</td>\n",
       "      <td>33.090267</td>\n",
       "    </tr>\n",
       "    <tr>\n",
       "      <th>90</th>\n",
       "      <td>2018-10-30</td>\n",
       "      <td>32.598665</td>\n",
       "    </tr>\n",
       "    <tr>\n",
       "      <th>91</th>\n",
       "      <td>2018-10-31</td>\n",
       "      <td>33.655485</td>\n",
       "    </tr>\n",
       "  </tbody>\n",
       "</table>\n",
       "<p>92 rows × 2 columns</p>\n",
       "</div>"
      ],
      "text/plain": [
       "   order_purchase_timestamp  sales_volume\n",
       "0                2018-08-01     32.675281\n",
       "1                2018-08-02     31.692351\n",
       "2                2018-08-03     28.430882\n",
       "3                2018-08-04     25.418194\n",
       "4                2018-08-05     29.871244\n",
       "..                      ...           ...\n",
       "87               2018-10-27     26.398398\n",
       "88               2018-10-28     30.851448\n",
       "89               2018-10-29     33.090267\n",
       "90               2018-10-30     32.598665\n",
       "91               2018-10-31     33.655485\n",
       "\n",
       "[92 rows x 2 columns]"
      ]
     },
     "execution_count": 92,
     "metadata": {},
     "output_type": "execute_result"
    }
   ],
   "source": [
    "pred"
   ]
  },
  {
   "cell_type": "code",
   "execution_count": 93,
   "metadata": {
    "state": "normal"
   },
   "outputs": [
    {
     "data": {
      "text/plain": [
       "<matplotlib.axes._subplots.AxesSubplot at 0x7fba96838400>"
      ]
     },
     "execution_count": 93,
     "metadata": {},
     "output_type": "execute_result"
    },
    {
     "data": {
      "image/png": "[encoded data removed]",
      "text/plain": [
       "<Figure size 720x360 with 1 Axes>"
      ]
     },
     "metadata": {
      "needs_background": "light"
     },
     "output_type": "display_data"
    }
   ],
   "source": [
    "# Plot of the prediction over time\n",
    "pred.plot(x='order_purchase_timestamp', y=['sales_volume'], figsize=(10,5), grid=True)"
   ]
  },
  {
   "cell_type": "code",
   "execution_count": null,
   "metadata": {},
   "outputs": [],
   "source": [
    "## Used to calculate growth from Aug-Oct 2017 to Aug-Oct 2018\n",
    "np.sum(pred['sales_volume'])"
   ]
  }
 ],
 "metadata": {
  "kernelspec": {
   "display_name": "Python 3",
   "language": "python",
   "name": "python3"
  },
  "language_info": {
   "codemirror_mode": {
    "name": "ipython",
    "version": 3
   },
   "file_extension": ".py",
   "mimetype": "text/x-python",
   "name": "python",
   "nbconvert_exporter": "python",
   "pygments_lexer": "ipython3",
   "version": "3.7.3"
  },
  "varInspector": {
   "cols": {
    "lenName": 16,
    "lenType": 16,
    "lenVar": 40
   },
   "kernels_config": {
    "python": {
     "delete_cmd_postfix": "",
     "delete_cmd_prefix": "del ",
     "library": "var_list.py",
     "varRefreshCmd": "print(var_dic_list())"
    },
    "r": {
     "delete_cmd_postfix": ") ",
     "delete_cmd_prefix": "rm(",
     "library": "var_list.r",
     "varRefreshCmd": "cat(var_dic_list()) "
    }
   },
   "types_to_exclude": [
    "module",
    "function",
    "builtin_function_or_method",
    "instance",
    "_Feature"
   ],
   "window_display": false
  }
 },
 "nbformat": 4,
 "nbformat_minor": 2
}
